{
 "cells": [
  {
   "cell_type": "code",
   "execution_count": 40,
   "metadata": {},
   "outputs": [
    {
     "name": "stdout",
     "output_type": "stream",
     "text": [
      "[poly1d([3, 3, 3]), poly1d([6, 3]), poly1d([6])]\n",
      "21.0\n"
     ]
    }
   ],
   "source": [
    "import numpy as np\n",
    "from numpy.polynomial import Polynomial\n",
    "import math\n",
    "functions = []\n",
    "max_order = 5\n",
    "x = 2\n",
    "a = 1\n",
    "starting_polynomial = np.poly1d([3,3,3])\n",
    "\n",
    "functions.append(starting_polynomial)\n",
    "for n in range(1, max_order):\n",
    "    last_function = functions[n - 1]\n",
    "    if np.polyder(last_function)[0] == 0:\n",
    "        break\n",
    "    functions.append(np.polyder(last_function))\n",
    "    \n",
    "print(functions)\n",
    "\n",
    "running_total = 0\n",
    "\n",
    "for n in range(0, len(functions)):\n",
    "    running_total += ((np.polyval(functions[n], a) / math.factorial(n)) * ((x - a) ** n))\n",
    "\n",
    "print(running_total)\n",
    "\n",
    "\n",
    "\n",
    "    "
   ]
  }
 ],
 "metadata": {
  "kernelspec": {
   "display_name": "Python 3",
   "language": "python",
   "name": "python3"
  },
  "language_info": {
   "codemirror_mode": {
    "name": "ipython",
    "version": 3
   },
   "file_extension": ".py",
   "mimetype": "text/x-python",
   "name": "python",
   "nbconvert_exporter": "python",
   "pygments_lexer": "ipython3",
   "version": "3.10.4"
  },
  "orig_nbformat": 4
 },
 "nbformat": 4,
 "nbformat_minor": 2
}
