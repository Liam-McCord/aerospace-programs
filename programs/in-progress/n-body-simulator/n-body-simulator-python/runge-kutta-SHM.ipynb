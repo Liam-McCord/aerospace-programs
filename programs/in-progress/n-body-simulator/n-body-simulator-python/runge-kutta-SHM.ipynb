{
 "cells": [
  {
   "cell_type": "code",
   "execution_count": 1,
   "metadata": {},
   "outputs": [],
   "source": [
    "import numpy as np"
   ]
  },
  {
   "cell_type": "code",
   "execution_count": 2,
   "metadata": {},
   "outputs": [],
   "source": [
    "def rk4(t,dt,y,evaluate):\n",
    "    '''\n",
    "    Given a vector y with [x,xdot], calculate the new y for step dt,\n",
    "    using rk4 method\n",
    "    '''\n",
    "    k1 = dt * evaluate(t, y) \n",
    "    k2 = dt * evaluate(t + 0.5*dt, y + 0.5*k1)\n",
    "    k3 = dt * evaluate(t + 0.5*dt, y + 0.5*k2)\n",
    "    k4 = dt * evaluate(t + dt, y + k3)\n",
    "    \n",
    "    y_new = y + (1/6.)*(k1+ 2*k2 + 2*k3 + k4)\n",
    "    return y_new"
   ]
  },
  {
   "cell_type": "code",
   "execution_count": 3,
   "metadata": {},
   "outputs": [],
   "source": [
    "def evaluate_SHO(t,y,k=1):\n",
    "    '''\n",
    "    evaluate the SHO at time t and y=y. \n",
    "    Note: this diff eq has no time dependence\n",
    "    '''\n",
    "    v = y[1] \n",
    "    a = -k**2 * y[0]\n",
    "    return np.array([v,a])"
   ]
  },
  {
   "cell_type": "code",
   "execution_count": 4,
   "metadata": {},
   "outputs": [
    {
     "ename": "NameError",
     "evalue": "name 't' is not defined",
     "output_type": "error",
     "traceback": [
      "\u001b[1;31m---------------------------------------------------------------------------\u001b[0m",
      "\u001b[1;31mNameError\u001b[0m                                 Traceback (most recent call last)",
      "\u001b[1;32mc:\\Users\\Liam McCord\\Documents\\University Of Canterbury\\Personal Projects\\aerospace programs\\github\\programs\\in-progress\\n-body-simulator\\n-body-simulator-python\\runge-kutta-SHM.ipynb Cell 4\u001b[0m in \u001b[0;36m1\n\u001b[0;32m      <a href='vscode-notebook-cell:/c%3A/Users/Liam%20McCord/Documents/University%20Of%20Canterbury/Personal%20Projects/aerospace%20programs/github/programs/in-progress/n-body-simulator/n-body-simulator-python/runge-kutta-SHM.ipynb#W2sZmlsZQ%3D%3D?line=7'>8</a>\u001b[0m nsteps \u001b[39m=\u001b[39m \u001b[39mint\u001b[39m(T\u001b[39m/\u001b[39mdt)\n\u001b[0;32m      <a href='vscode-notebook-cell:/c%3A/Users/Liam%20McCord/Documents/University%20Of%20Canterbury/Personal%20Projects/aerospace%20programs/github/programs/in-progress/n-body-simulator/n-body-simulator-python/runge-kutta-SHM.ipynb#W2sZmlsZQ%3D%3D?line=8'>9</a>\u001b[0m \u001b[39mfor\u001b[39;00m i \u001b[39min\u001b[39;00m \u001b[39mrange\u001b[39m(nsteps):\n\u001b[1;32m---> <a href='vscode-notebook-cell:/c%3A/Users/Liam%20McCord/Documents/University%20Of%20Canterbury/Personal%20Projects/aerospace%20programs/github/programs/in-progress/n-body-simulator/n-body-simulator-python/runge-kutta-SHM.ipynb#W2sZmlsZQ%3D%3D?line=9'>10</a>\u001b[0m     y_new \u001b[39m=\u001b[39m rk4(t,dt,history[\u001b[39m-\u001b[39m\u001b[39m1\u001b[39m],evaluate_SHO)\n\u001b[0;32m     <a href='vscode-notebook-cell:/c%3A/Users/Liam%20McCord/Documents/University%20Of%20Canterbury/Personal%20Projects/aerospace%20programs/github/programs/in-progress/n-body-simulator/n-body-simulator-python/runge-kutta-SHM.ipynb#W2sZmlsZQ%3D%3D?line=10'>11</a>\u001b[0m     history\u001b[39m.\u001b[39mappend(y_new)\n\u001b[0;32m     <a href='vscode-notebook-cell:/c%3A/Users/Liam%20McCord/Documents/University%20Of%20Canterbury/Personal%20Projects/aerospace%20programs/github/programs/in-progress/n-body-simulator/n-body-simulator-python/runge-kutta-SHM.ipynb#W2sZmlsZQ%3D%3D?line=11'>12</a>\u001b[0m     t \u001b[39m=\u001b[39m ts[\u001b[39m-\u001b[39m\u001b[39m1\u001b[39m] \u001b[39m+\u001b[39m dt\n",
      "\u001b[1;31mNameError\u001b[0m: name 't' is not defined"
     ]
    }
   ],
   "source": [
    "# Running a small integration\n",
    "\n",
    "y_0 = np.array([-5,0]) #initialize oscillator at x = -5, with 0 velocity. \n",
    "history = [y_0]\n",
    "ts = [0]\n",
    "dt = 0.01\n",
    "T = 10\n",
    "nsteps = int(T/dt)\n",
    "for i in range(nsteps):\n",
    "    y_new = rk4(t,dt,history[-1],evaluate_SHO)\n",
    "    history.append(y_new)\n",
    "    t = ts[-1] + dt\n",
    "    ts.append(t)\n",
    "history = np.array(history)\n",
    "ts = np.array(ts)"
   ]
  },
  {
   "cell_type": "code",
   "execution_count": null,
   "metadata": {},
   "outputs": [],
   "source": [
    "analytical_solution = -5*np.cos(ts)\n",
    "analytical_velocity = 5*np.sin(ts)\n",
    "fig, ax = plt.subplots(2,1,figsize=(12,6),sharex=True)\n",
    "ax[0].plot(ts,history[:,0],color='C0',lw=6,ls='--',label='Position (rk4)',alpha=0.5)\n",
    "ax[0].plot(ts,analytical_solution,color='r',label='Analytical Solution')\n",
    "ax[1].plot(ts,history[:,1],color='C1',lw=6,alpha=0.5,ls='--',label='Velocity (rk4)')\n",
    "ax[1].plot(ts,analytical_velocity,'C2',label='Analytical Solution')\n",
    "ax[0].legend(loc=\"upper center\")\n",
    "ax[1].legend(loc=\"upper center\")\n",
    "ax[-1].set_xlabel('time')"
   ]
  },
  {
   "cell_type": "code",
   "execution_count": null,
   "metadata": {},
   "outputs": [],
   "source": [
    "def set_diff_eq(self,calc_diff_eqs,**kwargs):\n",
    "    '''\n",
    "    Method which assigns an external solver function as the diff-eq solver for RK4. \n",
    "    For N-body or gravitational setups, this is the function which calculates accelerations.\n",
    "    ---------------------------------\n",
    "    Params:\n",
    "        calc_diff_eqs: A function which returns a [y] vector for RK4\n",
    "        **kwargs: Any additional inputs/hyperparameters the external function requires\n",
    "    '''\n",
    "    self.diff_eq_kwargs = kwargs\n",
    "    self.calc_diff_eqs = calc_diff_eqs"
   ]
  },
  {
   "cell_type": "code",
   "execution_count": null,
   "metadata": {},
   "outputs": [],
   "source": [
    "class Simulation():\n",
    "    \n",
    "    def __init__(self,bodies,has_units=True):  \n",
    "        '''\n",
    "        Initializes instance of Simulation object. \n",
    "        -------------------------------------------\n",
    "        Params: \n",
    "            bodies (list): a list of Body() objects\n",
    "            has_units (bool): set whether bodies entered have units or not.\n",
    "        '''\n",
    "        self.has_units = has_units\n",
    "        self.bodies = bodies\n",
    "        self.N_bodies = len(self.bodies)\n",
    "        self.nDim = 6.0 \n",
    "        self.quant_vec = np.concatenate(np.array([i.return_vec() for i in self.bodies]))\n",
    "        self.mass_vec = np.array([i.return_mass() for i in self.bodies])\n",
    "        self.name_vec = [i.return_name() for i in self.bodies]"
   ]
  }
 ],
 "metadata": {
  "kernelspec": {
   "display_name": "Python 3",
   "language": "python",
   "name": "python3"
  },
  "language_info": {
   "codemirror_mode": {
    "name": "ipython",
    "version": 3
   },
   "file_extension": ".py",
   "mimetype": "text/x-python",
   "name": "python",
   "nbconvert_exporter": "python",
   "pygments_lexer": "ipython3",
   "version": "3.10.4"
  },
  "orig_nbformat": 4
 },
 "nbformat": 4,
 "nbformat_minor": 2
}
