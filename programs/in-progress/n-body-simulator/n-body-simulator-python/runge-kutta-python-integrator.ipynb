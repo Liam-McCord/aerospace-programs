{
 "cells": [
  {
   "cell_type": "code",
   "execution_count": 51,
   "metadata": {},
   "outputs": [],
   "source": [
    "import numpy as np \n",
    "import matplotlib.pyplot as plt \n",
    "import astropy.units as u \n",
    "import astropy.constants as c "
   ]
  },
  {
   "cell_type": "code",
   "execution_count": 52,
   "metadata": {},
   "outputs": [],
   "source": [
    "class Body():\n",
    "    def __init__(self, name, x_vec, v_vec, mass):\n",
    "        \n",
    "        self.name = name\n",
    "        self.x_vec = x_vec.cgs.value\n",
    "        self.v_vec = v_vec.cgs.value\n",
    "        self.mass = mass.cgs.value\n",
    "    def return_vec(self):\n",
    "        return np.concatenate((self.x_vec, self.v_vec))\n",
    "        \n",
    "        pass"
   ]
  },
  {
   "cell_type": "code",
   "execution_count": 53,
   "metadata": {},
   "outputs": [
    {
     "name": "stdout",
     "output_type": "stream",
     "text": [
      "10.0 solMass\n",
      "1.988409870698051e+34\n"
     ]
    }
   ],
   "source": [
    "#here is some mass a user might set up\n",
    "my_mass = 10 * u.Msun\n",
    "print(my_mass)\n",
    "\n",
    "#CGS Value Conversion\n",
    "\n",
    "my_mass_stripped = my_mass.cgs.value\n",
    "print(my_mass_stripped)"
   ]
  },
  {
   "cell_type": "code",
   "execution_count": 54,
   "metadata": {},
   "outputs": [
    {
     "data": {
      "text/plain": [
       "array([0.00000000e+00, 1.49597871e+13, 0.00000000e+00, 0.00000000e+00,\n",
       "       3.00000000e+06, 0.00000000e+00])"
      ]
     },
     "execution_count": 54,
     "metadata": {},
     "output_type": "execute_result"
    }
   ],
   "source": [
    "Earth = Body(name='Earth',\n",
    "             x_vec = np.array([0,1,0])*u.AU,\n",
    "             v_vec = np.array([0,30,0])*u.km/u.s,\n",
    "             mass = 1.0*c.M_earth) \n",
    "Earth.return_vec()"
   ]
  },
  {
   "cell_type": "code",
   "execution_count": 1,
   "metadata": {},
   "outputs": [],
   "source": [
    "def rk4()"
   ]
  }
 ],
 "metadata": {
  "kernelspec": {
   "display_name": "Python 3",
   "language": "python",
   "name": "python3"
  },
  "language_info": {
   "codemirror_mode": {
    "name": "ipython",
    "version": 3
   },
   "file_extension": ".py",
   "mimetype": "text/x-python",
   "name": "python",
   "nbconvert_exporter": "python",
   "pygments_lexer": "ipython3",
   "version": "3.10.4"
  },
  "orig_nbformat": 4
 },
 "nbformat": 4,
 "nbformat_minor": 2
}
